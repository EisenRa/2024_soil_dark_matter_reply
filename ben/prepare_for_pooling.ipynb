{
 "cells": [
  {
   "cell_type": "code",
   "execution_count": 1,
   "metadata": {},
   "outputs": [],
   "source": [
    "import polars as pl"
   ]
  },
  {
   "cell_type": "code",
   "execution_count": 2,
   "metadata": {},
   "outputs": [
    {
     "data": {
      "text/html": [
       "<div><style>\n",
       ".dataframe > thead > tr,\n",
       ".dataframe > tbody > tr {\n",
       "  text-align: right;\n",
       "  white-space: pre-wrap;\n",
       "}\n",
       "</style>\n",
       "<small>shape: (3, 10)</small><table border=\"1\" class=\"dataframe\"><thead><tr><th>study_accession</th><th>sample_accession</th><th>experiment_accession</th><th>run_accession</th><th>tax_id</th><th>scientific_name</th><th>fastq_ftp</th><th>submitted_ftp</th><th>sra_ftp</th><th>bam_ftp</th></tr><tr><td>str</td><td>str</td><td>str</td><td>str</td><td>i64</td><td>str</td><td>str</td><td>str</td><td>str</td><td>str</td></tr></thead><tbody><tr><td>&quot;PRJEB18701&quot;</td><td>&quot;SAMEA103892539…</td><td>&quot;ERX1938175&quot;</td><td>&quot;ERR1877650&quot;</td><td>410658</td><td>&quot;soil metagenom…</td><td>&quot;ftp.sra.ebi.ac…</td><td>&quot;ftp.sra.ebi.ac…</td><td>&quot;ftp.sra.ebi.ac…</td><td>null</td></tr><tr><td>&quot;PRJEB18701&quot;</td><td>&quot;SAMEA103892619…</td><td>&quot;ERX1938176&quot;</td><td>&quot;ERR1877651&quot;</td><td>410658</td><td>&quot;soil metagenom…</td><td>&quot;ftp.sra.ebi.ac…</td><td>&quot;ftp.sra.ebi.ac…</td><td>&quot;ftp.sra.ebi.ac…</td><td>null</td></tr><tr><td>&quot;PRJEB18701&quot;</td><td>&quot;SAMEA103892440…</td><td>&quot;ERX1938180&quot;</td><td>&quot;ERR1877655&quot;</td><td>410658</td><td>&quot;soil metagenom…</td><td>&quot;ftp.sra.ebi.ac…</td><td>&quot;ftp.sra.ebi.ac…</td><td>&quot;ftp.sra.ebi.ac…</td><td>null</td></tr></tbody></table></div>"
      ],
      "text/plain": [
       "shape: (3, 10)\n",
       "┌────────────┬───────────┬───────────┬───────────┬───┬───────────┬───────────┬───────────┬─────────┐\n",
       "│ study_acce ┆ sample_ac ┆ experimen ┆ run_acces ┆ … ┆ fastq_ftp ┆ submitted ┆ sra_ftp   ┆ bam_ftp │\n",
       "│ ssion      ┆ cession   ┆ t_accessi ┆ sion      ┆   ┆ ---       ┆ _ftp      ┆ ---       ┆ ---     │\n",
       "│ ---        ┆ ---       ┆ on        ┆ ---       ┆   ┆ str       ┆ ---       ┆ str       ┆ str     │\n",
       "│ str        ┆ str       ┆ ---       ┆ str       ┆   ┆           ┆ str       ┆           ┆         │\n",
       "│            ┆           ┆ str       ┆           ┆   ┆           ┆           ┆           ┆         │\n",
       "╞════════════╪═══════════╪═══════════╪═══════════╪═══╪═══════════╪═══════════╪═══════════╪═════════╡\n",
       "│ PRJEB18701 ┆ SAMEA1038 ┆ ERX193817 ┆ ERR187765 ┆ … ┆ ftp.sra.e ┆ ftp.sra.e ┆ ftp.sra.e ┆ null    │\n",
       "│            ┆ 92539     ┆ 5         ┆ 0         ┆   ┆ bi.ac.uk/ ┆ bi.ac.uk/ ┆ bi.ac.uk/ ┆         │\n",
       "│            ┆           ┆           ┆           ┆   ┆ vol1/fast ┆ vol1/run/ ┆ vol1/err/ ┆         │\n",
       "│            ┆           ┆           ┆           ┆   ┆ q/ERR…    ┆ ERR18…    ┆ ERR18…    ┆         │\n",
       "│ PRJEB18701 ┆ SAMEA1038 ┆ ERX193817 ┆ ERR187765 ┆ … ┆ ftp.sra.e ┆ ftp.sra.e ┆ ftp.sra.e ┆ null    │\n",
       "│            ┆ 92619     ┆ 6         ┆ 1         ┆   ┆ bi.ac.uk/ ┆ bi.ac.uk/ ┆ bi.ac.uk/ ┆         │\n",
       "│            ┆           ┆           ┆           ┆   ┆ vol1/fast ┆ vol1/run/ ┆ vol1/err/ ┆         │\n",
       "│            ┆           ┆           ┆           ┆   ┆ q/ERR…    ┆ ERR18…    ┆ ERR18…    ┆         │\n",
       "│ PRJEB18701 ┆ SAMEA1038 ┆ ERX193818 ┆ ERR187765 ┆ … ┆ ftp.sra.e ┆ ftp.sra.e ┆ ftp.sra.e ┆ null    │\n",
       "│            ┆ 92440     ┆ 0         ┆ 5         ┆   ┆ bi.ac.uk/ ┆ bi.ac.uk/ ┆ bi.ac.uk/ ┆         │\n",
       "│            ┆           ┆           ┆           ┆   ┆ vol1/fast ┆ vol1/run/ ┆ vol1/err/ ┆         │\n",
       "│            ┆           ┆           ┆           ┆   ┆ q/ERR…    ┆ ERR18…    ┆ ERR18…    ┆         │\n",
       "└────────────┴───────────┴───────────┴───────────┴───┴───────────┴───────────┴───────────┴─────────┘"
      ]
     },
     "execution_count": 2,
     "metadata": {},
     "output_type": "execute_result"
    }
   ],
   "source": [
    "bioproject = pl.read_csv('bioproject.csv', separator='\\t')\n",
    "bioproject[:3]"
   ]
  },
  {
   "cell_type": "code",
   "execution_count": 4,
   "metadata": {},
   "outputs": [
    {
     "data": {
      "text/html": [
       "<div><style>\n",
       ".dataframe > thead > tr,\n",
       ".dataframe > tbody > tr {\n",
       "  text-align: right;\n",
       "  white-space: pre-wrap;\n",
       "}\n",
       "</style>\n",
       "<small>shape: (3, 6)</small><table border=\"1\" class=\"dataframe\"><thead><tr><th>sample</th><th>bacterial_archaeal_bases</th><th>metagenome_size</th><th>read_fraction</th><th>average_bacterial_archaeal_genome_size</th><th>warning</th></tr><tr><td>str</td><td>i64</td><td>f64</td><td>f64</td><td>i64</td><td>str</td></tr></thead><tbody><tr><td>&quot;SRR8634435&quot;</td><td>1178735067</td><td>1.2550e9</td><td>93.92</td><td>3419895</td><td>null</td></tr><tr><td>&quot;SRR8640623&quot;</td><td>1418304662</td><td>3.2740e9</td><td>43.32</td><td>1941474</td><td>null</td></tr><tr><td>&quot;SRR8692214&quot;</td><td>7567256125</td><td>7.7290e9</td><td>97.91</td><td>3352393</td><td>null</td></tr></tbody></table></div>"
      ],
      "text/plain": [
       "shape: (3, 6)\n",
       "┌────────────┬────────────────────┬─────────────────┬───────────────┬────────────────────┬─────────┐\n",
       "│ sample     ┆ bacterial_archaeal ┆ metagenome_size ┆ read_fraction ┆ average_bacterial_ ┆ warning │\n",
       "│ ---        ┆ _bases             ┆ ---             ┆ ---           ┆ archaeal_genom…    ┆ ---     │\n",
       "│ str        ┆ ---                ┆ f64             ┆ f64           ┆ ---                ┆ str     │\n",
       "│            ┆ i64                ┆                 ┆               ┆ i64                ┆         │\n",
       "╞════════════╪════════════════════╪═════════════════╪═══════════════╪════════════════════╪═════════╡\n",
       "│ SRR8634435 ┆ 1178735067         ┆ 1.2550e9        ┆ 93.92         ┆ 3419895            ┆ null    │\n",
       "│ SRR8640623 ┆ 1418304662         ┆ 3.2740e9        ┆ 43.32         ┆ 1941474            ┆ null    │\n",
       "│ SRR8692214 ┆ 7567256125         ┆ 7.7290e9        ┆ 97.91         ┆ 3352393            ┆ null    │\n",
       "└────────────┴────────────────────┴─────────────────┴───────────────┴────────────────────┴─────────┘"
      ]
     },
     "execution_count": 4,
     "metadata": {},
     "output_type": "execute_result"
    }
   ],
   "source": [
    "# Read microbial fractions to work out which we have in hand\n",
    "mfrac = pl.read_csv('microbial_fractions.csv', separator='\\t')\n",
    "mfrac[:3]"
   ]
  },
  {
   "cell_type": "code",
   "execution_count": 5,
   "metadata": {},
   "outputs": [
    {
     "data": {
      "text/plain": [
       "((284, 15),\n",
       " shape: (3, 15)\n",
       " ┌────────────┬───────────┬───────────┬───────────┬───┬───────────┬───────────┬───────────┬─────────┐\n",
       " │ study_acce ┆ sample_ac ┆ experimen ┆ run_acces ┆ … ┆ metagenom ┆ read_frac ┆ average_b ┆ warning │\n",
       " │ ssion      ┆ cession   ┆ t_accessi ┆ sion      ┆   ┆ e_size    ┆ tion      ┆ acterial_ ┆ ---     │\n",
       " │ ---        ┆ ---       ┆ on        ┆ ---       ┆   ┆ ---       ┆ ---       ┆ archaeal_ ┆ str     │\n",
       " │ str        ┆ str       ┆ ---       ┆ str       ┆   ┆ f64       ┆ f64       ┆ genom…    ┆         │\n",
       " │            ┆           ┆ str       ┆           ┆   ┆           ┆           ┆ ---       ┆         │\n",
       " │            ┆           ┆           ┆           ┆   ┆           ┆           ┆ i64       ┆         │\n",
       " ╞════════════╪═══════════╪═══════════╪═══════════╪═══╪═══════════╪═══════════╪═══════════╪═════════╡\n",
       " │ PRJEB18701 ┆ SAMEA1038 ┆ ERX193844 ┆ ERR187791 ┆ … ┆ 2.0080e9  ┆ 42.94     ┆ 5007528   ┆ null    │\n",
       " │            ┆ 92454     ┆ 3         ┆ 8         ┆   ┆           ┆           ┆           ┆         │\n",
       " │ PRJEB18701 ┆ SAMEA1038 ┆ ERX193840 ┆ ERR187788 ┆ … ┆ 1.1540e9  ┆ 53.36     ┆ 4500485   ┆ null    │\n",
       " │            ┆ 92572     ┆ 7         ┆ 2         ┆   ┆           ┆           ┆           ┆         │\n",
       " │ PRJEB18701 ┆ SAMEA1038 ┆ ERX193834 ┆ ERR187781 ┆ … ┆ 2.0080e9  ┆ 29.91     ┆ 5390682   ┆ null    │\n",
       " │            ┆ 92465     ┆ 3         ┆ 8         ┆   ┆           ┆           ┆           ┆         │\n",
       " └────────────┴───────────┴───────────┴───────────┴───┴───────────┴───────────┴───────────┴─────────┘)"
      ]
     },
     "execution_count": 5,
     "metadata": {},
     "output_type": "execute_result"
    }
   ],
   "source": [
    "# jioin\n",
    "joined = bioproject.join(mfrac, left_on='run_accession', right_on='sample')\n",
    "joined.shape, joined[:3]"
   ]
  },
  {
   "cell_type": "code",
   "execution_count": 8,
   "metadata": {},
   "outputs": [
    {
     "data": {
      "text/plain": [
       "((277389, 2),\n",
       " shape: (3, 2)\n",
       " ┌─────────────┬───────────────────────────────────┐\n",
       " │ sample      ┆ archive                           │\n",
       " │ ---         ┆ ---                               │\n",
       " │ str         ┆ str                               │\n",
       " ╞═════════════╪═══════════════════════════════════╡\n",
       " │ SRR10279201 ┆ /work/microbiome/ibis/SRA/result… │\n",
       " │ ERR868433   ┆ /work/microbiome/ibis/SRA/result… │\n",
       " │ SRR11615201 ┆ /work/microbiome/ibis/SRA/result… │\n",
       " └─────────────┴───────────────────────────────────┘)"
      ]
     },
     "execution_count": 8,
     "metadata": {},
     "output_type": "execute_result"
    }
   ],
   "source": [
    "sample_to_archive_tsv = pl.read_csv('../145_supplemented_renew/samples_and_r214_archives.ibis.tsv', separator='\\t', has_header=False)\n",
    "sample_to_archive_tsv.columns = ['sample', 'archive']\n",
    "sample_to_archive_tsv.shape, sample_to_archive_tsv[:3]"
   ]
  },
  {
   "cell_type": "code",
   "execution_count": 9,
   "metadata": {},
   "outputs": [
    {
     "data": {
      "text/plain": [
       "((284, 16),\n",
       " shape: (3, 16)\n",
       " ┌────────────┬───────────┬───────────┬───────────┬───┬───────────┬───────────┬─────────┬───────────┐\n",
       " │ study_acce ┆ sample_ac ┆ experimen ┆ run_acces ┆ … ┆ read_frac ┆ average_b ┆ warning ┆ archive   │\n",
       " │ ssion      ┆ cession   ┆ t_accessi ┆ sion      ┆   ┆ tion      ┆ acterial_ ┆ ---     ┆ ---       │\n",
       " │ ---        ┆ ---       ┆ on        ┆ ---       ┆   ┆ ---       ┆ archaeal_ ┆ str     ┆ str       │\n",
       " │ str        ┆ str       ┆ ---       ┆ str       ┆   ┆ f64       ┆ genom…    ┆         ┆           │\n",
       " │            ┆           ┆ str       ┆           ┆   ┆           ┆ ---       ┆         ┆           │\n",
       " │            ┆           ┆           ┆           ┆   ┆           ┆ i64       ┆         ┆           │\n",
       " ╞════════════╪═══════════╪═══════════╪═══════════╪═══╪═══════════╪═══════════╪═════════╪═══════════╡\n",
       " │ PRJEB18701 ┆ SAMEA1038 ┆ ERX193836 ┆ ERR187784 ┆ … ┆ 56.78     ┆ 4565479   ┆ null    ┆ /work/mic │\n",
       " │            ┆ 92530     ┆ 9         ┆ 4         ┆   ┆           ┆           ┆         ┆ robiome/i │\n",
       " │            ┆           ┆           ┆           ┆   ┆           ┆           ┆         ┆ bis/SRA/r │\n",
       " │            ┆           ┆           ┆           ┆   ┆           ┆           ┆         ┆ esult…    │\n",
       " │ PRJEB18701 ┆ SAMEA1038 ┆ ERX193831 ┆ ERR187779 ┆ … ┆ 69.44     ┆ 4619808   ┆ null    ┆ /work/mic │\n",
       " │            ┆ 92552     ┆ 8         ┆ 3         ┆   ┆           ┆           ┆         ┆ robiome/i │\n",
       " │            ┆           ┆           ┆           ┆   ┆           ┆           ┆         ┆ bis/SRA/r │\n",
       " │            ┆           ┆           ┆           ┆   ┆           ┆           ┆         ┆ esult…    │\n",
       " │ PRJEB18701 ┆ SAMEA1038 ┆ ERX193832 ┆ ERR187779 ┆ … ┆ 50.67     ┆ 4925194   ┆ null    ┆ /work/mic │\n",
       " │            ┆ 92456     ┆ 4         ┆ 9         ┆   ┆           ┆           ┆         ┆ robiome/i │\n",
       " │            ┆           ┆           ┆           ┆   ┆           ┆           ┆         ┆ bis/SRA/r │\n",
       " │            ┆           ┆           ┆           ┆   ┆           ┆           ┆         ┆ esult…    │\n",
       " └────────────┴───────────┴───────────┴───────────┴───┴───────────┴───────────┴─────────┴───────────┘)"
      ]
     },
     "execution_count": 9,
     "metadata": {},
     "output_type": "execute_result"
    }
   ],
   "source": [
    "j2 = joined.join(sample_to_archive_tsv, left_on='run_accession', right_on='sample')\n",
    "j2.shape, j2[:3]"
   ]
  },
  {
   "cell_type": "code",
   "execution_count": 25,
   "metadata": {},
   "outputs": [],
   "source": [
    "def show_all(df, width=200, max_col_width=True):\n",
    "    '''\n",
    "    Prints an entire polars dataframe in the console or notebook output.\n",
    "    Parameters\n",
    "    ----------\n",
    "    df : pl.DataFrame\n",
    "        The dataframe to be printed.\n",
    "    width : int, optional\n",
    "        The width of the printed dataframe.\n",
    "        Defaults to 200.\n",
    "    max_col_width : bool, optional\n",
    "        Whether to set the maximum column width.\n",
    "        i.e. it will print the full contents of the cells.\n",
    "        Defaults to True.\n",
    "    '''\n",
    "    with  pl.Config()  as  cfg:\n",
    "        cfg.set_tbl_cols(-1)\n",
    "        cfg.set_tbl_rows(-1)\n",
    "        cfg.set_tbl_width_chars(width)\n",
    "        if  max_col_width  or  len(df.columns) ==  1:\n",
    "            cfg.set_fmt_str_lengths(width)\n",
    "        print(df)"
   ]
  },
  {
   "cell_type": "code",
   "execution_count": 32,
   "metadata": {},
   "outputs": [
    {
     "data": {
      "text/html": [
       "<div><style>\n",
       ".dataframe > thead > tr,\n",
       ".dataframe > tbody > tr {\n",
       "  text-align: right;\n",
       "  white-space: pre-wrap;\n",
       "}\n",
       "</style>\n",
       "<small>shape: (3, 2)</small><table border=\"1\" class=\"dataframe\"><thead><tr><th>sample</th><th>num_bases</th></tr><tr><td>str</td><td>i64</td></tr></thead><tbody><tr><td>&quot;SRR8661651&quot;</td><td>8836000000</td></tr><tr><td>&quot;SRR6713924&quot;</td><td>540000000</td></tr><tr><td>&quot;SRR1535370&quot;</td><td>6881000000</td></tr></tbody></table></div>"
      ],
      "text/plain": [
       "shape: (3, 2)\n",
       "┌────────────┬────────────┐\n",
       "│ sample     ┆ num_bases  │\n",
       "│ ---        ┆ ---        │\n",
       "│ str        ┆ i64        │\n",
       "╞════════════╪════════════╡\n",
       "│ SRR8661651 ┆ 8836000000 │\n",
       "│ SRR6713924 ┆ 540000000  │\n",
       "│ SRR1535370 ┆ 6881000000 │\n",
       "└────────────┴────────────┘"
      ]
     },
     "execution_count": 32,
     "metadata": {},
     "output_type": "execute_result"
    }
   ],
   "source": [
    "# Read in the number of Mbp\n",
    "mbp = pl.read_csv('/work/microbiome/msingle/mess/117_read_fraction_of_sra/sra_20211215.num_bases', separator='\\t', has_header=True)\n",
    "mbp[:3]"
   ]
  },
  {
   "cell_type": "code",
   "execution_count": 33,
   "metadata": {},
   "outputs": [
    {
     "data": {
      "text/plain": [
       "((284, 11),\n",
       " shape: (3, 11)\n",
       " ┌────────────┬───────────┬───────────┬───────────┬───┬───────────┬───────────┬─────────┬───────────┐\n",
       " │ study_acce ┆ sample_ac ┆ experimen ┆ run_acces ┆ … ┆ submitted ┆ sra_ftp   ┆ bam_ftp ┆ num_bases │\n",
       " │ ssion      ┆ cession   ┆ t_accessi ┆ sion      ┆   ┆ _ftp      ┆ ---       ┆ ---     ┆ ---       │\n",
       " │ ---        ┆ ---       ┆ on        ┆ ---       ┆   ┆ ---       ┆ str       ┆ str     ┆ i64       │\n",
       " │ str        ┆ str       ┆ ---       ┆ str       ┆   ┆ str       ┆           ┆         ┆           │\n",
       " │            ┆           ┆ str       ┆           ┆   ┆           ┆           ┆         ┆           │\n",
       " ╞════════════╪═══════════╪═══════════╪═══════════╪═══╪═══════════╪═══════════╪═════════╪═══════════╡\n",
       " │ PRJEB18701 ┆ SAMEA1038 ┆ ERX193845 ┆ ERR187792 ┆ … ┆ ftp.sra.e ┆ ftp.sra.e ┆ null    ┆ 376000000 │\n",
       " │            ┆ 92569     ┆ 3         ┆ 8         ┆   ┆ bi.ac.uk/ ┆ bi.ac.uk/ ┆         ┆           │\n",
       " │            ┆           ┆           ┆           ┆   ┆ vol1/run/ ┆ vol1/err/ ┆         ┆           │\n",
       " │            ┆           ┆           ┆           ┆   ┆ ERR18…    ┆ ERR18…    ┆         ┆           │\n",
       " │ PRJEB18701 ┆ SAMEA1038 ┆ ERX193839 ┆ ERR187786 ┆ … ┆ ftp.sra.e ┆ ftp.sra.e ┆ null    ┆ 463000000 │\n",
       " │            ┆ 92595     ┆ 2         ┆ 7         ┆   ┆ bi.ac.uk/ ┆ bi.ac.uk/ ┆         ┆           │\n",
       " │            ┆           ┆           ┆           ┆   ┆ vol1/run/ ┆ vol1/err/ ┆         ┆           │\n",
       " │            ┆           ┆           ┆           ┆   ┆ ERR18…    ┆ ERR18…    ┆         ┆           │\n",
       " │ PRJEB18701 ┆ SAMEA1038 ┆ ERX193832 ┆ ERR187779 ┆ … ┆ ftp.sra.e ┆ ftp.sra.e ┆ null    ┆ 336500000 │\n",
       " │            ┆ 92471     ┆ 1         ┆ 6         ┆   ┆ bi.ac.uk/ ┆ bi.ac.uk/ ┆         ┆ 0         │\n",
       " │            ┆           ┆           ┆           ┆   ┆ vol1/run/ ┆ vol1/err/ ┆         ┆           │\n",
       " │            ┆           ┆           ┆           ┆   ┆ ERR18…    ┆ ERR18…    ┆         ┆           │\n",
       " └────────────┴───────────┴───────────┴───────────┴───┴───────────┴───────────┴─────────┴───────────┘)"
      ]
     },
     "execution_count": 33,
     "metadata": {},
     "output_type": "execute_result"
    }
   ],
   "source": [
    "joined_mbp = bioproject.join(mbp, left_on='run_accession', right_on='sample')\n",
    "joined_mbp.shape, joined_mbp[:3]"
   ]
  },
  {
   "cell_type": "code",
   "execution_count": 34,
   "metadata": {},
   "outputs": [
    {
     "data": {
      "text/plain": [
       "((186, 2),\n",
       " shape: (3, 2)\n",
       " ┌──────────────────┬───────────┐\n",
       " │ sample_accession ┆ num_bases │\n",
       " │ ---              ┆ ---       │\n",
       " │ str              ┆ i64       │\n",
       " ╞══════════════════╪═══════════╡\n",
       " │ SAMEA103892567   ┆ 547000000 │\n",
       " │ SAMEA103892558   ┆ 412000000 │\n",
       " │ SAMEA103892589   ┆ 499000000 │\n",
       " └──────────────────┴───────────┘)"
      ]
     },
     "execution_count": 34,
     "metadata": {},
     "output_type": "execute_result"
    }
   ],
   "source": [
    "mbp_samplewise = joined_mbp.select('sample_accession','num_bases').group_by('sample_accession').sum()\n",
    "mbp_samplewise.shape, mbp_samplewise[:3]"
   ]
  },
  {
   "cell_type": "code",
   "execution_count": 35,
   "metadata": {},
   "outputs": [],
   "source": [
    "mbp_samplewise.columns = ['sample','num_bases']\n",
    "mbp_samplewise.write_csv('num_bases.csv', separator='\\t')"
   ]
  },
  {
   "cell_type": "code",
   "execution_count": 30,
   "metadata": {},
   "outputs": [],
   "source": [
    "# Write data so we can snakemake\n",
    "to_print = j2.select('sample_accession','archive').group_by('sample_accession').agg(pl.col('archive')).select([pl.col('sample_accession'), pl.col('archive').list.join(' ')])\n",
    "# to_print.shape\n",
    "# show_all()\n",
    "to_print.write_csv('bioproject_joined.tsv', separator='\\t', include_header=True)\n",
    "# ()]).write_csv('bioproject_joined.tsv', separator='\\t', include_header=True)\n",
    "# write_csv('bioproject_joined.tsv', separator='\\t', include_header=True)"
   ]
  },
  {
   "cell_type": "code",
   "execution_count": null,
   "metadata": {},
   "outputs": [],
   "source": [
    "\n"
   ]
  }
 ],
 "metadata": {
  "kernelspec": {
   "display_name": "mybase",
   "language": "python",
   "name": "python3"
  },
  "language_info": {
   "codemirror_mode": {
    "name": "ipython",
    "version": 3
   },
   "file_extension": ".py",
   "mimetype": "text/x-python",
   "name": "python",
   "nbconvert_exporter": "python",
   "pygments_lexer": "ipython3",
   "version": "3.11.0"
  }
 },
 "nbformat": 4,
 "nbformat_minor": 2
}
